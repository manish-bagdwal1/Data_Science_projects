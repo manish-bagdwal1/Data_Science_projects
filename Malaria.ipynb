{
 "cells": [
  {
   "cell_type": "markdown",
   "metadata": {
    "id": "1auR2ZBxb4ya"
   },
   "source": [
    "# Using Transfer Learning "
   ]
  },
  {
   "cell_type": "code",
   "execution_count": 1,
   "metadata": {
    "id": "thfkJolMb4yg"
   },
   "outputs": [],
   "source": [
    "# import the libraries required for our task\n",
    "\n",
    "from tensorflow.keras.layers import Input, Lambda, Dense, Flatten,Conv2D\n",
    "from tensorflow.keras.models import Model\n",
    "from tensorflow.keras.applications.vgg19 import VGG19\n",
    "from tensorflow.keras.applications.resnet50 import preprocess_input\n",
    "from tensorflow.keras.preprocessing import image\n",
    "from tensorflow.keras.preprocessing.image import ImageDataGenerator,load_img\n",
    "from tensorflow.keras.models import Sequential\n",
    "import numpy as np\n",
    "import matplotlib.pyplot as plt"
   ]
  },
  {
   "cell_type": "code",
   "execution_count": 3,
   "metadata": {
    "id": "qjbgo9CTb4yh"
   },
   "outputs": [],
   "source": [
    "# re-size all the images to this\n",
    "IMAGE_SIZE = [224, 224]\n",
    "train_path = '/content/drive/MyDrive/Malaria-Detection-master/Dataset/Train'\n",
    "valid_path = '/content/drive/MyDrive/Malaria-Detection-master/Dataset/Test'\n"
   ]
  },
  {
   "cell_type": "markdown",
   "metadata": {},
   "source": [
    "### We are going to use functional api for transfer learning"
   ]
  },
  {
   "cell_type": "code",
   "execution_count": 4,
   "metadata": {
    "id": "l71VGlepb4yi"
   },
   "outputs": [],
   "source": [
    "# Importing the Vgg 16 library \n",
    "Vgg19 = VGG19(input_shape=IMAGE_SIZE + [3], weights='imagenet', include_top=False)"
   ]
  },
  {
   "cell_type": "code",
   "execution_count": 5,
   "metadata": {
    "id": "aZ2jlbPNb4yi"
   },
   "outputs": [],
   "source": [
    "# don't train existing weights cuz we are using transfer learning\n",
    "for layer in Vgg19.layers:\n",
    "    layer.trainable = False"
   ]
  },
  {
   "cell_type": "code",
   "execution_count": 6,
   "metadata": {
    "id": "E1ZmFlVLb4yk"
   },
   "outputs": [],
   "source": [
    "# flattening the output that we got from vgg19\n",
    "x = Flatten()(Vgg19.output)"
   ]
  },
  {
   "cell_type": "code",
   "execution_count": 7,
   "metadata": {
    "id": "mOm9HyNib4yl"
   },
   "outputs": [],
   "source": [
    "# adding output layer\n",
    "prediction = Dense(2, activation='softmax')(x)\n",
    "\n",
    "# creating our model\n",
    "model = Model(inputs=Vgg19.input, outputs=prediction)"
   ]
  },
  {
   "cell_type": "code",
   "execution_count": 8,
   "metadata": {
    "colab": {
     "base_uri": "https://localhost:8080/"
    },
    "id": "yXKsvGXub4yl",
    "outputId": "bb1ee243-308d-42ef-be51-805159f50dec"
   },
   "outputs": [
    {
     "name": "stdout",
     "output_type": "stream",
     "text": [
      "Model: \"model\"\n",
      "_________________________________________________________________\n",
      "Layer (type)                 Output Shape              Param #   \n",
      "=================================================================\n",
      "input_1 (InputLayer)         [(None, 224, 224, 3)]     0         \n",
      "_________________________________________________________________\n",
      "block1_conv1 (Conv2D)        (None, 224, 224, 64)      1792      \n",
      "_________________________________________________________________\n",
      "block1_conv2 (Conv2D)        (None, 224, 224, 64)      36928     \n",
      "_________________________________________________________________\n",
      "block1_pool (MaxPooling2D)   (None, 112, 112, 64)      0         \n",
      "_________________________________________________________________\n",
      "block2_conv1 (Conv2D)        (None, 112, 112, 128)     73856     \n",
      "_________________________________________________________________\n",
      "block2_conv2 (Conv2D)        (None, 112, 112, 128)     147584    \n",
      "_________________________________________________________________\n",
      "block2_pool (MaxPooling2D)   (None, 56, 56, 128)       0         \n",
      "_________________________________________________________________\n",
      "block3_conv1 (Conv2D)        (None, 56, 56, 256)       295168    \n",
      "_________________________________________________________________\n",
      "block3_conv2 (Conv2D)        (None, 56, 56, 256)       590080    \n",
      "_________________________________________________________________\n",
      "block3_conv3 (Conv2D)        (None, 56, 56, 256)       590080    \n",
      "_________________________________________________________________\n",
      "block3_conv4 (Conv2D)        (None, 56, 56, 256)       590080    \n",
      "_________________________________________________________________\n",
      "block3_pool (MaxPooling2D)   (None, 28, 28, 256)       0         \n",
      "_________________________________________________________________\n",
      "block4_conv1 (Conv2D)        (None, 28, 28, 512)       1180160   \n",
      "_________________________________________________________________\n",
      "block4_conv2 (Conv2D)        (None, 28, 28, 512)       2359808   \n",
      "_________________________________________________________________\n",
      "block4_conv3 (Conv2D)        (None, 28, 28, 512)       2359808   \n",
      "_________________________________________________________________\n",
      "block4_conv4 (Conv2D)        (None, 28, 28, 512)       2359808   \n",
      "_________________________________________________________________\n",
      "block4_pool (MaxPooling2D)   (None, 14, 14, 512)       0         \n",
      "_________________________________________________________________\n",
      "block5_conv1 (Conv2D)        (None, 14, 14, 512)       2359808   \n",
      "_________________________________________________________________\n",
      "block5_conv2 (Conv2D)        (None, 14, 14, 512)       2359808   \n",
      "_________________________________________________________________\n",
      "block5_conv3 (Conv2D)        (None, 14, 14, 512)       2359808   \n",
      "_________________________________________________________________\n",
      "block5_conv4 (Conv2D)        (None, 14, 14, 512)       2359808   \n",
      "_________________________________________________________________\n",
      "block5_pool (MaxPooling2D)   (None, 7, 7, 512)         0         \n",
      "_________________________________________________________________\n",
      "flatten (Flatten)            (None, 25088)             0         \n",
      "_________________________________________________________________\n",
      "dense (Dense)                (None, 2)                 50178     \n",
      "=================================================================\n",
      "Total params: 20,074,562\n",
      "Trainable params: 50,178\n",
      "Non-trainable params: 20,024,384\n",
      "_________________________________________________________________\n"
     ]
    }
   ],
   "source": [
    "\n",
    "# structure of the model\n",
    "model.summary()\n"
   ]
  },
  {
   "cell_type": "code",
   "execution_count": 9,
   "metadata": {
    "id": "j7HqcdQLb4ym"
   },
   "outputs": [],
   "source": [
    "#  metric, loss and optimization method to use\n",
    "model.compile(\n",
    "  loss='categorical_crossentropy',\n",
    "  optimizer='adam',\n",
    "  metrics=['accuracy']\n",
    ")\n"
   ]
  },
  {
   "cell_type": "markdown",
   "metadata": {},
   "source": [
    "### we are using image data generator to provide augmentations to our input, so that our model performs better"
   ]
  },
  {
   "cell_type": "code",
   "execution_count": 10,
   "metadata": {
    "id": "0sUhMNCdb4yn"
   },
   "outputs": [],
   "source": [
    "# Use the Image Data Generator to import the images from the dataset\n",
    "from tensorflow.keras.preprocessing.image import ImageDataGenerator\n",
    "\n",
    "train_datagen = ImageDataGenerator(rescale = 1./255,\n",
    "                                   shear_range = 0.2,\n",
    "                                   zoom_range = 0.2,\n",
    "                                   horizontal_flip = True)\n",
    "\n",
    "test_datagen = ImageDataGenerator(rescale = 1./255)"
   ]
  },
  {
   "cell_type": "code",
   "execution_count": 11,
   "metadata": {
    "colab": {
     "base_uri": "https://localhost:8080/"
    },
    "id": "VO9MtTQAb4yn",
    "outputId": "900c1604-ae65-4d68-b4b5-50974a1c4374"
   },
   "outputs": [
    {
     "name": "stdout",
     "output_type": "stream",
     "text": [
      "Found 416 images belonging to 2 classes.\n"
     ]
    }
   ],
   "source": [
    "# same target size as initialied for the image size\n",
    "training_set = train_datagen.flow_from_directory('/content/drive/MyDrive/Malaria-Detection-master/Dataset/Train',\n",
    "                                                 target_size = (224, 224),\n",
    "                                                 batch_size = 32,\n",
    "                                                 class_mode = 'categorical')"
   ]
  },
  {
   "cell_type": "code",
   "execution_count": 12,
   "metadata": {
    "colab": {
     "base_uri": "https://localhost:8080/"
    },
    "id": "8mwvKG1Qb4yo",
    "outputId": "a4ec755d-ed15-4f70-ee89-0e0dd030d542"
   },
   "outputs": [
    {
     "name": "stdout",
     "output_type": "stream",
     "text": [
      "Found 134 images belonging to 2 classes.\n"
     ]
    }
   ],
   "source": [
    "test_set = test_datagen.flow_from_directory('/content/drive/MyDrive/Malaria-Detection-master/Dataset/Test',\n",
    "                                            target_size = (224, 224),\n",
    "                                            batch_size = 32,\n",
    "                                            class_mode = 'categorical')"
   ]
  },
  {
   "cell_type": "markdown",
   "metadata": {},
   "source": [
    "## Since malaria dataset is large and I do not have GPU so I took part of dataset"
   ]
  },
  {
   "cell_type": "code",
   "execution_count": 13,
   "metadata": {
    "colab": {
     "base_uri": "https://localhost:8080/"
    },
    "id": "uHyTEHvob4yo",
    "outputId": "3872c254-6f14-4bd0-b82d-8ec92c77bc97",
    "scrolled": true
   },
   "outputs": [
    {
     "name": "stderr",
     "output_type": "stream",
     "text": [
      "/usr/local/lib/python3.7/dist-packages/keras/engine/training.py:1972: UserWarning: `Model.fit_generator` is deprecated and will be removed in a future version. Please use `Model.fit`, which supports generators.\n",
      "  warnings.warn('`Model.fit_generator` is deprecated and '\n"
     ]
    },
    {
     "name": "stdout",
     "output_type": "stream",
     "text": [
      "Epoch 1/20\n",
      "13/13 [==============================] - 24s 871ms/step - loss: 1.5453 - accuracy: 0.5240 - val_loss: 1.8182 - val_accuracy: 0.3209\n",
      "Epoch 2/20\n",
      "13/13 [==============================] - 8s 646ms/step - loss: 0.7013 - accuracy: 0.6418 - val_loss: 0.5311 - val_accuracy: 0.7090\n",
      "Epoch 3/20\n",
      "13/13 [==============================] - 8s 629ms/step - loss: 0.4461 - accuracy: 0.7837 - val_loss: 0.7691 - val_accuracy: 0.5970\n",
      "Epoch 4/20\n",
      "13/13 [==============================] - 8s 629ms/step - loss: 0.4153 - accuracy: 0.7981 - val_loss: 0.4290 - val_accuracy: 0.7836\n",
      "Epoch 5/20\n",
      "13/13 [==============================] - 8s 630ms/step - loss: 0.4182 - accuracy: 0.7885 - val_loss: 0.3812 - val_accuracy: 0.8134\n",
      "Epoch 6/20\n",
      "13/13 [==============================] - 8s 625ms/step - loss: 0.3673 - accuracy: 0.8221 - val_loss: 0.5805 - val_accuracy: 0.6791\n",
      "Epoch 7/20\n",
      "13/13 [==============================] - 8s 629ms/step - loss: 0.2903 - accuracy: 0.8846 - val_loss: 0.3180 - val_accuracy: 0.8507\n",
      "Epoch 8/20\n",
      "13/13 [==============================] - 8s 633ms/step - loss: 0.2684 - accuracy: 0.8822 - val_loss: 0.4342 - val_accuracy: 0.7761\n",
      "Epoch 9/20\n",
      "13/13 [==============================] - 8s 630ms/step - loss: 0.2500 - accuracy: 0.8966 - val_loss: 0.3249 - val_accuracy: 0.8284\n",
      "Epoch 10/20\n",
      "13/13 [==============================] - 8s 629ms/step - loss: 0.2471 - accuracy: 0.8990 - val_loss: 0.3453 - val_accuracy: 0.8582\n",
      "Epoch 11/20\n",
      "13/13 [==============================] - 8s 632ms/step - loss: 0.2439 - accuracy: 0.8990 - val_loss: 0.3160 - val_accuracy: 0.8806\n",
      "Epoch 12/20\n",
      "13/13 [==============================] - 8s 635ms/step - loss: 0.2419 - accuracy: 0.9135 - val_loss: 0.3551 - val_accuracy: 0.8507\n",
      "Epoch 13/20\n",
      "13/13 [==============================] - 8s 637ms/step - loss: 0.2029 - accuracy: 0.9159 - val_loss: 0.3260 - val_accuracy: 0.8731\n",
      "Epoch 14/20\n",
      "13/13 [==============================] - 8s 629ms/step - loss: 0.1915 - accuracy: 0.9375 - val_loss: 0.2795 - val_accuracy: 0.9030\n",
      "Epoch 15/20\n",
      "13/13 [==============================] - 8s 636ms/step - loss: 0.1719 - accuracy: 0.9495 - val_loss: 0.3021 - val_accuracy: 0.8806\n",
      "Epoch 16/20\n",
      "13/13 [==============================] - 8s 636ms/step - loss: 0.1699 - accuracy: 0.9375 - val_loss: 0.3130 - val_accuracy: 0.8731\n",
      "Epoch 17/20\n",
      "13/13 [==============================] - 8s 636ms/step - loss: 0.1582 - accuracy: 0.9519 - val_loss: 0.2876 - val_accuracy: 0.8806\n",
      "Epoch 18/20\n",
      "13/13 [==============================] - 8s 634ms/step - loss: 0.1478 - accuracy: 0.9639 - val_loss: 0.2608 - val_accuracy: 0.9104\n",
      "Epoch 19/20\n",
      "13/13 [==============================] - 8s 634ms/step - loss: 0.1410 - accuracy: 0.9639 - val_loss: 0.3510 - val_accuracy: 0.8358\n",
      "Epoch 20/20\n",
      "13/13 [==============================] - 8s 630ms/step - loss: 0.2084 - accuracy: 0.9207 - val_loss: 0.2329 - val_accuracy: 0.9254\n"
     ]
    }
   ],
   "source": [
    "# fit the model\n",
    "r = model.fit_generator(\n",
    "  training_set,\n",
    "  validation_data=test_set,\n",
    "  epochs=20,\n",
    "  steps_per_epoch=len(training_set),\n",
    "  validation_steps=len(test_set)\n",
    ")"
   ]
  },
  {
   "cell_type": "markdown",
   "metadata": {},
   "source": [
    "### plot of train vs val"
   ]
  },
  {
   "cell_type": "code",
   "execution_count": 14,
   "metadata": {
    "colab": {
     "base_uri": "https://localhost:8080/",
     "height": 530
    },
    "id": "IQJvWFVmb4yp",
    "outputId": "1841ef5b-39e2-4c5c-c4ab-d2abae1a74cc"
   },
   "outputs": [
    {
     "data": {
      "image/png": "[encoded data removed]",
      "text/plain": [
       "<Figure size 432x288 with 1 Axes>"
      ]
     },
     "metadata": {
      "needs_background": "light"
     },
     "output_type": "display_data"
    },
    {
     "data": {
      "image/png": "[encoded data removed]",
      "text/plain": [
       "<Figure size 432x288 with 1 Axes>"
      ]
     },
     "metadata": {
      "needs_background": "light"
     },
     "output_type": "display_data"
    },
    {
     "data": {
      "text/plain": [
       "<Figure size 432x288 with 0 Axes>"
      ]
     },
     "metadata": {},
     "output_type": "display_data"
    }
   ],
   "source": [
    "# plot the loss\n",
    "plt.plot(r.history['loss'], label='train loss')\n",
    "plt.plot(r.history['val_loss'], label='val loss')\n",
    "plt.legend()\n",
    "plt.show()\n",
    "plt.savefig('LossVal_loss')\n",
    "\n",
    "# plot the accuracy\n",
    "plt.plot(r.history['accuracy'], label='train acc')\n",
    "plt.plot(r.history['val_accuracy'], label='val acc')\n",
    "plt.legend()\n",
    "plt.show()\n",
    "plt.savefig('AccVal_acc')"
   ]
  },
  {
   "cell_type": "code",
   "execution_count": 15,
   "metadata": {
    "id": "rwiFpTrrkxmg"
   },
   "outputs": [],
   "source": [
    "# save it as a h5 file\n",
    "from tensorflow.keras.models import load_model\n",
    "model.save('model_vgg19.h5')"
   ]
  },
  {
   "cell_type": "code",
   "execution_count": 16,
   "metadata": {
    "id": "2BcntpOno8Yb"
   },
   "outputs": [],
   "source": [
    "# predicting using model\n",
    "y_pred = model.predict(test_set)\n"
   ]
  },
  {
   "cell_type": "code",
   "execution_count": 17,
   "metadata": {
    "colab": {
     "base_uri": "https://localhost:8080/"
    },
    "id": "di3eNR8_pCVz",
    "outputId": "3b5502f6-4e77-434c-b90e-e5aa58a5607f"
   },
   "outputs": [
    {
     "data": {
      "text/plain": [
       "array([[9.96939778e-01, 3.06023518e-03],\n",
       "       [9.43338871e-01, 5.66610880e-02],\n",
       "       [3.07674676e-01, 6.92325294e-01],\n",
       "       [9.98478353e-01, 1.52163743e-03],\n",
       "       [1.55649111e-01, 8.44350874e-01],\n",
       "       [7.31467962e-01, 2.68532038e-01],\n",
       "       [9.96987641e-01, 3.01242783e-03],\n",
       "       [9.09280658e-01, 9.07193646e-02],\n",
       "       [7.58966923e-01, 2.41033047e-01],\n",
       "       [8.89679730e-01, 1.10320278e-01],\n",
       "       [1.40393302e-01, 8.59606743e-01],\n",
       "       [1.69744104e-01, 8.30255866e-01],\n",
       "       [9.98016596e-01, 1.98336807e-03],\n",
       "       [2.62312233e-01, 7.37687767e-01],\n",
       "       [9.93849993e-01, 6.15003332e-03],\n",
       "       [9.55270648e-01, 4.47293967e-02],\n",
       "       [1.56661525e-01, 8.43338490e-01],\n",
       "       [7.14034975e-01, 2.85965025e-01],\n",
       "       [2.02106729e-01, 7.97893286e-01],\n",
       "       [9.43266869e-01, 5.67331873e-02],\n",
       "       [9.99771655e-01, 2.28345947e-04],\n",
       "       [9.81482446e-01, 1.85174774e-02],\n",
       "       [4.07139033e-01, 5.92860997e-01],\n",
       "       [8.44897568e-01, 1.55102372e-01],\n",
       "       [8.10384691e-01, 1.89615339e-01],\n",
       "       [9.99843121e-01, 1.56832888e-04],\n",
       "       [7.99697757e-01, 2.00302258e-01],\n",
       "       [8.45978498e-01, 1.54021502e-01],\n",
       "       [9.93669331e-01, 6.33064331e-03],\n",
       "       [4.66131061e-01, 5.33868968e-01],\n",
       "       [9.47558463e-01, 5.24414927e-02],\n",
       "       [6.59519136e-02, 9.34048057e-01],\n",
       "       [7.38841355e-01, 2.61158615e-01],\n",
       "       [3.85867536e-01, 6.14132464e-01],\n",
       "       [1.33495614e-01, 8.66504371e-01],\n",
       "       [6.28175437e-01, 3.71824622e-01],\n",
       "       [9.95329738e-01, 4.67026234e-03],\n",
       "       [8.59573424e-01, 1.40426561e-01],\n",
       "       [9.95269716e-01, 4.73029492e-03],\n",
       "       [2.65754044e-01, 7.34245956e-01],\n",
       "       [9.99993443e-01, 6.56713792e-06],\n",
       "       [9.96501446e-01, 3.49854259e-03],\n",
       "       [1.57488123e-01, 8.42511892e-01],\n",
       "       [9.46402371e-01, 5.35975695e-02],\n",
       "       [8.02553117e-01, 1.97446838e-01],\n",
       "       [3.90631825e-01, 6.09368205e-01],\n",
       "       [9.28978771e-02, 9.07102108e-01],\n",
       "       [9.60695446e-01, 3.93046029e-02],\n",
       "       [9.12699878e-01, 8.73000845e-02],\n",
       "       [1.15878083e-01, 8.84121895e-01],\n",
       "       [9.97488022e-01, 2.51194742e-03],\n",
       "       [4.48365182e-01, 5.51634789e-01],\n",
       "       [9.60938334e-01, 3.90616804e-02],\n",
       "       [2.67184585e-01, 7.32815385e-01],\n",
       "       [9.67239082e-01, 3.27609144e-02],\n",
       "       [1.46843359e-01, 8.53156626e-01],\n",
       "       [5.33170342e-01, 4.66829687e-01],\n",
       "       [9.99897838e-01, 1.02189486e-04],\n",
       "       [9.99629855e-01, 3.70118651e-04],\n",
       "       [9.20333028e-01, 7.96670392e-02],\n",
       "       [4.44178164e-01, 5.55821836e-01],\n",
       "       [8.92155886e-01, 1.07844181e-01],\n",
       "       [9.95654702e-01, 4.34527732e-03],\n",
       "       [2.37094983e-01, 7.62905061e-01],\n",
       "       [1.85605511e-01, 8.14394534e-01],\n",
       "       [9.90821719e-01, 9.17828176e-03],\n",
       "       [9.99369800e-01, 6.30232680e-04],\n",
       "       [9.96941984e-01, 3.05795181e-03],\n",
       "       [9.98467982e-01, 1.53203134e-03],\n",
       "       [4.64326665e-02, 9.53567326e-01],\n",
       "       [9.70014274e-01, 2.99856998e-02],\n",
       "       [6.70412838e-01, 3.29587221e-01],\n",
       "       [7.27387846e-01, 2.72612154e-01],\n",
       "       [9.98335660e-01, 1.66431000e-03],\n",
       "       [9.92852032e-01, 7.14791380e-03],\n",
       "       [8.39323938e-01, 1.60676077e-01],\n",
       "       [9.99809921e-01, 1.90053819e-04],\n",
       "       [1.43765867e-01, 8.56234133e-01],\n",
       "       [1.38113260e-01, 8.61886799e-01],\n",
       "       [9.99832034e-01, 1.67916704e-04],\n",
       "       [8.07093680e-01, 1.92906320e-01],\n",
       "       [9.98841465e-01, 1.15852768e-03],\n",
       "       [1.88756898e-01, 8.11243057e-01],\n",
       "       [7.28673756e-01, 2.71326244e-01],\n",
       "       [9.97581482e-01, 2.41846591e-03],\n",
       "       [9.38463628e-01, 6.15363754e-02],\n",
       "       [1.24231346e-01, 8.75768661e-01],\n",
       "       [8.04543793e-01, 1.95456192e-01],\n",
       "       [9.92829978e-01, 7.17006950e-03],\n",
       "       [2.70072341e-01, 7.29927659e-01],\n",
       "       [4.80088323e-01, 5.19911647e-01],\n",
       "       [9.98034418e-01, 1.96554721e-03],\n",
       "       [7.93782651e-01, 2.06217378e-01],\n",
       "       [8.27561855e-01, 1.72438189e-01],\n",
       "       [1.10302195e-01, 8.89697790e-01],\n",
       "       [8.48455369e-01, 1.51544631e-01],\n",
       "       [8.89186487e-02, 9.11081314e-01],\n",
       "       [3.26733351e-01, 6.73266709e-01],\n",
       "       [9.99816120e-01, 1.83910088e-04],\n",
       "       [4.78535503e-01, 5.21464527e-01],\n",
       "       [9.85564768e-01, 1.44351888e-02],\n",
       "       [9.64443624e-01, 3.55564468e-02],\n",
       "       [2.82536715e-01, 7.17463315e-01],\n",
       "       [1.55304596e-01, 8.44695449e-01],\n",
       "       [1.13695942e-01, 8.86304021e-01],\n",
       "       [6.28975272e-01, 3.71024698e-01],\n",
       "       [6.07906319e-02, 9.39209402e-01],\n",
       "       [6.49114907e-01, 3.50885093e-01],\n",
       "       [4.01220232e-01, 5.98779738e-01],\n",
       "       [9.99995470e-01, 4.48610672e-06],\n",
       "       [9.87669766e-01, 1.23303169e-02],\n",
       "       [2.49792561e-01, 7.50207424e-01],\n",
       "       [1.28808096e-01, 8.71191978e-01],\n",
       "       [9.99911785e-01, 8.82310414e-05],\n",
       "       [2.05983162e-01, 7.94016778e-01],\n",
       "       [6.07465088e-01, 3.92534912e-01],\n",
       "       [3.35614532e-01, 6.64385498e-01],\n",
       "       [9.96539950e-01, 3.46005126e-03],\n",
       "       [9.96567845e-01, 3.43210297e-03],\n",
       "       [4.62957293e-01, 5.37042677e-01],\n",
       "       [8.69225413e-02, 9.13077474e-01],\n",
       "       [5.79382718e-01, 4.20617253e-01],\n",
       "       [7.43645191e-01, 2.56354779e-01],\n",
       "       [9.96249139e-01, 3.75085301e-03],\n",
       "       [9.98285711e-01, 1.71424076e-03],\n",
       "       [1.38151422e-01, 8.61848533e-01],\n",
       "       [6.59860790e-01, 3.40139180e-01],\n",
       "       [3.43311220e-01, 6.56688750e-01],\n",
       "       [8.74261498e-01, 1.25738502e-01],\n",
       "       [1.42040387e-01, 8.57959569e-01],\n",
       "       [1.03384390e-01, 8.96615565e-01],\n",
       "       [6.09464824e-01, 3.90535146e-01],\n",
       "       [1.10184453e-01, 8.89815569e-01],\n",
       "       [1.75052941e-01, 8.24947059e-01]], dtype=float32)"
      ]
     },
     "execution_count": 17,
     "metadata": {},
     "output_type": "execute_result"
    }
   ],
   "source": [
    "y_pred"
   ]
  },
  {
   "cell_type": "code",
   "execution_count": 18,
   "metadata": {
    "colab": {
     "base_uri": "https://localhost:8080/"
    },
    "id": "aNTWTltypEsh",
    "outputId": "c5c8c723-3041-4406-cdf9-223d851dadad"
   },
   "outputs": [
    {
     "data": {
      "text/plain": [
       "array([0, 0, 1, 0, 1, 0, 0, 0, 0, 0, 1, 1, 0, 1, 0, 0, 1, 0, 1, 0, 0, 0,\n",
       "       1, 0, 0, 0, 0, 0, 0, 1, 0, 1, 0, 1, 1, 0, 0, 0, 0, 1, 0, 0, 1, 0,\n",
       "       0, 1, 1, 0, 0, 1, 0, 1, 0, 1, 0, 1, 0, 0, 0, 0, 1, 0, 0, 1, 1, 0,\n",
       "       0, 0, 0, 1, 0, 0, 0, 0, 0, 0, 0, 1, 1, 0, 0, 0, 1, 0, 0, 0, 1, 0,\n",
       "       0, 1, 1, 0, 0, 0, 1, 0, 1, 1, 0, 1, 0, 0, 1, 1, 1, 0, 1, 0, 1, 0,\n",
       "       0, 1, 1, 0, 1, 0, 1, 0, 0, 1, 1, 0, 0, 0, 0, 1, 0, 1, 0, 1, 1, 0,\n",
       "       1, 1])"
      ]
     },
     "execution_count": 18,
     "metadata": {},
     "output_type": "execute_result"
    }
   ],
   "source": [
    "\n",
    "import numpy as np\n",
    "y_pred = np.argmax(y_pred, axis=1)\n",
    "y_pred"
   ]
  },
  {
   "cell_type": "markdown",
   "metadata": {},
   "source": [
    "## Loading image from drive to predict its result"
   ]
  },
  {
   "cell_type": "code",
   "execution_count": 19,
   "metadata": {
    "id": "w5JcOwhHpbvT"
   },
   "outputs": [],
   "source": [
    "from tensorflow.keras.models import load_model\n",
    "from tensorflow.keras.preprocessing import image\n",
    "model=load_model('model_vgg19.h5')"
   ]
  },
  {
   "cell_type": "code",
   "execution_count": 20,
   "metadata": {
    "id": "7fWS7vL1pb0E"
   },
   "outputs": [],
   "source": [
    "img=image.load_img('/content/drive/MyDrive/Malaria-Detection-master/Dataset/Test/Uninfected/2.png',target_size=(224,224))\n",
    "\n"
   ]
  },
  {
   "cell_type": "code",
   "execution_count": 21,
   "metadata": {
    "colab": {
     "base_uri": "https://localhost:8080/"
    },
    "id": "WftYhjycpmq3",
    "outputId": "0aa9be4c-60a0-43a5-c366-37289f9d839a"
   },
   "outputs": [
    {
     "data": {
      "text/plain": [
       "array([[[0., 0., 0.],\n",
       "        [0., 0., 0.],\n",
       "        [0., 0., 0.],\n",
       "        ...,\n",
       "        [0., 0., 0.],\n",
       "        [0., 0., 0.],\n",
       "        [0., 0., 0.]],\n",
       "\n",
       "       [[0., 0., 0.],\n",
       "        [0., 0., 0.],\n",
       "        [0., 0., 0.],\n",
       "        ...,\n",
       "        [0., 0., 0.],\n",
       "        [0., 0., 0.],\n",
       "        [0., 0., 0.]],\n",
       "\n",
       "       [[0., 0., 0.],\n",
       "        [0., 0., 0.],\n",
       "        [0., 0., 0.],\n",
       "        ...,\n",
       "        [0., 0., 0.],\n",
       "        [0., 0., 0.],\n",
       "        [0., 0., 0.]],\n",
       "\n",
       "       ...,\n",
       "\n",
       "       [[0., 0., 0.],\n",
       "        [0., 0., 0.],\n",
       "        [0., 0., 0.],\n",
       "        ...,\n",
       "        [0., 0., 0.],\n",
       "        [0., 0., 0.],\n",
       "        [0., 0., 0.]],\n",
       "\n",
       "       [[0., 0., 0.],\n",
       "        [0., 0., 0.],\n",
       "        [0., 0., 0.],\n",
       "        ...,\n",
       "        [0., 0., 0.],\n",
       "        [0., 0., 0.],\n",
       "        [0., 0., 0.]],\n",
       "\n",
       "       [[0., 0., 0.],\n",
       "        [0., 0., 0.],\n",
       "        [0., 0., 0.],\n",
       "        ...,\n",
       "        [0., 0., 0.],\n",
       "        [0., 0., 0.],\n",
       "        [0., 0., 0.]]], dtype=float32)"
      ]
     },
     "execution_count": 21,
     "metadata": {},
     "output_type": "execute_result"
    }
   ],
   "source": [
    "x=image.img_to_array(img)\n",
    "x"
   ]
  },
  {
   "cell_type": "code",
   "execution_count": 22,
   "metadata": {
    "colab": {
     "base_uri": "https://localhost:8080/"
    },
    "id": "WHjz99lrpmvN",
    "outputId": "060dd581-e829-4c9f-c808-a19c1e021dc4"
   },
   "outputs": [
    {
     "data": {
      "text/plain": [
       "(224, 224, 3)"
      ]
     },
     "execution_count": 22,
     "metadata": {},
     "output_type": "execute_result"
    }
   ],
   "source": [
    "x.shape"
   ]
  },
  {
   "cell_type": "code",
   "execution_count": 23,
   "metadata": {
    "colab": {
     "base_uri": "https://localhost:8080/"
    },
    "id": "60uXTqrEpm0c",
    "outputId": "49daf4cb-e702-41d1-fb6b-32c01aefdc93"
   },
   "outputs": [
    {
     "data": {
      "text/plain": [
       "(1, 224, 224, 3)"
      ]
     },
     "execution_count": 23,
     "metadata": {},
     "output_type": "execute_result"
    }
   ],
   "source": [
    "x=x/255\n",
    "x=np.expand_dims(x,axis=0)\n",
    "img_data=preprocess_input(x)\n",
    "img_data.shape"
   ]
  },
  {
   "cell_type": "code",
   "execution_count": 24,
   "metadata": {
    "colab": {
     "base_uri": "https://localhost:8080/"
    },
    "id": "fZqzfkM3qJUh",
    "outputId": "f9be0fad-522e-4ef7-9285-2e3931cb1bf9"
   },
   "outputs": [
    {
     "data": {
      "text/plain": [
       "array([[0.01303748, 0.9869625 ]], dtype=float32)"
      ]
     },
     "execution_count": 24,
     "metadata": {},
     "output_type": "execute_result"
    }
   ],
   "source": [
    "model.predict(img_data)"
   ]
  },
  {
   "cell_type": "code",
   "execution_count": 25,
   "metadata": {
    "id": "1hjqmS6_qRgU"
   },
   "outputs": [],
   "source": [
    "a=np.argmax(model.predict(img_data), axis=1)"
   ]
  },
  {
   "cell_type": "code",
   "execution_count": 26,
   "metadata": {
    "colab": {
     "base_uri": "https://localhost:8080/"
    },
    "id": "OIC1QE8oqWrK",
    "outputId": "3145a651-d757-4156-bd67-a3daf509669e"
   },
   "outputs": [
    {
     "name": "stdout",
     "output_type": "stream",
     "text": [
      "Uninfected\n"
     ]
    }
   ],
   "source": [
    "if(a==1):\n",
    "    print(\"Uninfected\")\n",
    "else:\n",
    "    print(\"Infected\")"
   ]
  },
  {
   "cell_type": "markdown",
   "metadata": {},
   "source": [
    "# Using basic CNN architecture-model 2"
   ]
  },
  {
   "cell_type": "code",
   "execution_count": 28,
   "metadata": {
    "colab": {
     "base_uri": "https://localhost:8080/"
    },
    "id": "iESd57QDk8MX",
    "outputId": "5938ccfa-fe83-4cae-825b-3306fac32dd0"
   },
   "outputs": [
    {
     "name": "stdout",
     "output_type": "stream",
     "text": [
      "Model: \"sequential_1\"\n",
      "_________________________________________________________________\n",
      "Layer (type)                 Output Shape              Param #   \n",
      "=================================================================\n",
      "conv2d_3 (Conv2D)            (None, 224, 224, 16)      208       \n",
      "_________________________________________________________________\n",
      "max_pooling2d_3 (MaxPooling2 (None, 112, 112, 16)      0         \n",
      "_________________________________________________________________\n",
      "conv2d_4 (Conv2D)            (None, 112, 112, 32)      2080      \n",
      "_________________________________________________________________\n",
      "max_pooling2d_4 (MaxPooling2 (None, 56, 56, 32)        0         \n",
      "_________________________________________________________________\n",
      "conv2d_5 (Conv2D)            (None, 56, 56, 64)        8256      \n",
      "_________________________________________________________________\n",
      "max_pooling2d_5 (MaxPooling2 (None, 28, 28, 64)        0         \n",
      "_________________________________________________________________\n",
      "flatten_2 (Flatten)          (None, 50176)             0         \n",
      "_________________________________________________________________\n",
      "dense_3 (Dense)              (None, 500)               25088500  \n",
      "_________________________________________________________________\n",
      "dense_4 (Dense)              (None, 2)                 1002      \n",
      "=================================================================\n",
      "Total params: 25,100,046\n",
      "Trainable params: 25,100,046\n",
      "Non-trainable params: 0\n",
      "_________________________________________________________________\n"
     ]
    }
   ],
   "source": [
    "### Create Model from scratch using CNN\n",
    "from tensorflow.keras.layers import MaxPooling2D\n",
    "model=Sequential()\n",
    "model.add(Conv2D(filters=16,kernel_size=2,padding=\"same\",activation=\"relu\",input_shape=(224,224,3)))\n",
    "model.add(MaxPooling2D(pool_size=2))\n",
    "model.add(Conv2D(filters=32,kernel_size=2,padding=\"same\",activation =\"relu\"))\n",
    "model.add(MaxPooling2D(pool_size=2))\n",
    "model.add(Conv2D(filters=64,kernel_size=2,padding=\"same\",activation=\"relu\"))\n",
    "model.add(MaxPooling2D(pool_size=2))\n",
    "model.add(Flatten())\n",
    "model.add(Dense(500,activation=\"relu\"))\n",
    "model.add(Dense(2,activation=\"softmax\"))\n",
    "model.summary()"
   ]
  },
  {
   "cell_type": "code",
   "execution_count": 29,
   "metadata": {
    "id": "-W0hPiQAlBvq"
   },
   "outputs": [],
   "source": [
    "# metric, loss and optimization method to use\n",
    "model.compile(\n",
    "  loss='categorical_crossentropy',\n",
    "  optimizer='adam',\n",
    "  metrics=['accuracy']\n",
    ")\n"
   ]
  },
  {
   "cell_type": "code",
   "execution_count": 30,
   "metadata": {
    "id": "LIqAKTXKlJDt"
   },
   "outputs": [],
   "source": [
    "# Use the Image Data Generator to import the images from the dataset\n",
    "from tensorflow.keras.preprocessing.image import ImageDataGenerator\n",
    "\n",
    "train_datagen = ImageDataGenerator(rescale = 1./255,\n",
    "                                   shear_range = 0.2,\n",
    "                                   zoom_range = 0.2,\n",
    "                                   horizontal_flip = True)\n",
    "\n",
    "test_datagen = ImageDataGenerator(rescale = 1./255)"
   ]
  },
  {
   "cell_type": "code",
   "execution_count": 31,
   "metadata": {
    "colab": {
     "base_uri": "https://localhost:8080/"
    },
    "id": "6yXlny1tlQ5U",
    "outputId": "d6e65df7-f531-49dd-c1c9-c9d41476dd7b"
   },
   "outputs": [
    {
     "name": "stdout",
     "output_type": "stream",
     "text": [
      "Found 416 images belonging to 2 classes.\n"
     ]
    }
   ],
   "source": [
    "# same target size as initialied for the image size\n",
    "training_set = train_datagen.flow_from_directory('/content/drive/MyDrive/Malaria-Detection-master/Dataset/Train',\n",
    "                                                 target_size = (224, 224),\n",
    "                                                 batch_size = 32,\n",
    "                                                 class_mode = 'categorical')"
   ]
  },
  {
   "cell_type": "code",
   "execution_count": 32,
   "metadata": {
    "colab": {
     "base_uri": "https://localhost:8080/"
    },
    "id": "1h9f2maOlV_6",
    "outputId": "ab6c226d-80cd-4c4b-8b1a-da19e4134023"
   },
   "outputs": [
    {
     "name": "stdout",
     "output_type": "stream",
     "text": [
      "Found 134 images belonging to 2 classes.\n"
     ]
    }
   ],
   "source": [
    "test_set = test_datagen.flow_from_directory('/content/drive/MyDrive/Malaria-Detection-master/Dataset/Test',\n",
    "                                            target_size = (224, 224),\n",
    "                                            batch_size = 32,\n",
    "                                            class_mode = 'categorical')"
   ]
  },
  {
   "cell_type": "code",
   "execution_count": 34,
   "metadata": {
    "colab": {
     "base_uri": "https://localhost:8080/"
    },
    "id": "02GFhIYDlaiY",
    "outputId": "599ef859-b28b-4f99-a085-c71e7454141f",
    "scrolled": true
   },
   "outputs": [
    {
     "name": "stderr",
     "output_type": "stream",
     "text": [
      "/usr/local/lib/python3.7/dist-packages/keras/engine/training.py:1972: UserWarning: `Model.fit_generator` is deprecated and will be removed in a future version. Please use `Model.fit`, which supports generators.\n",
      "  warnings.warn('`Model.fit_generator` is deprecated and '\n"
     ]
    },
    {
     "name": "stdout",
     "output_type": "stream",
     "text": [
      "Epoch 1/20\n",
      "13/13 [==============================] - 7s 500ms/step - loss: 0.6674 - accuracy: 0.5529 - val_loss: 0.6794 - val_accuracy: 0.6791\n",
      "Epoch 2/20\n",
      "13/13 [==============================] - 7s 507ms/step - loss: 0.6145 - accuracy: 0.6250 - val_loss: 0.7496 - val_accuracy: 0.3955\n",
      "Epoch 3/20\n",
      "13/13 [==============================] - 7s 503ms/step - loss: 0.5361 - accuracy: 0.7260 - val_loss: 0.8489 - val_accuracy: 0.4328\n",
      "Epoch 4/20\n",
      "13/13 [==============================] - 6s 493ms/step - loss: 0.4684 - accuracy: 0.7620 - val_loss: 0.9800 - val_accuracy: 0.4179\n",
      "Epoch 5/20\n",
      "13/13 [==============================] - 6s 494ms/step - loss: 0.3604 - accuracy: 0.8317 - val_loss: 0.9423 - val_accuracy: 0.4851\n",
      "Epoch 6/20\n",
      "13/13 [==============================] - 6s 497ms/step - loss: 0.3316 - accuracy: 0.8365 - val_loss: 0.6900 - val_accuracy: 0.6119\n",
      "Epoch 7/20\n",
      "13/13 [==============================] - 6s 492ms/step - loss: 0.3251 - accuracy: 0.8654 - val_loss: 0.4884 - val_accuracy: 0.7612\n",
      "Epoch 8/20\n",
      "13/13 [==============================] - 6s 497ms/step - loss: 0.2721 - accuracy: 0.8942 - val_loss: 0.5730 - val_accuracy: 0.7015\n",
      "Epoch 9/20\n",
      "13/13 [==============================] - 6s 491ms/step - loss: 0.2590 - accuracy: 0.9014 - val_loss: 0.5643 - val_accuracy: 0.6716\n",
      "Epoch 10/20\n",
      "13/13 [==============================] - 6s 495ms/step - loss: 0.2389 - accuracy: 0.9231 - val_loss: 0.3675 - val_accuracy: 0.8134\n",
      "Epoch 11/20\n",
      "13/13 [==============================] - 6s 494ms/step - loss: 0.1652 - accuracy: 0.9447 - val_loss: 0.4938 - val_accuracy: 0.8134\n",
      "Epoch 12/20\n",
      "13/13 [==============================] - 6s 497ms/step - loss: 0.1514 - accuracy: 0.9567 - val_loss: 0.5491 - val_accuracy: 0.7985\n",
      "Epoch 13/20\n",
      "13/13 [==============================] - 6s 495ms/step - loss: 0.2016 - accuracy: 0.9471 - val_loss: 0.8564 - val_accuracy: 0.6343\n",
      "Epoch 14/20\n",
      "13/13 [==============================] - 6s 497ms/step - loss: 0.2534 - accuracy: 0.9231 - val_loss: 0.5708 - val_accuracy: 0.6866\n",
      "Epoch 15/20\n",
      "13/13 [==============================] - 7s 500ms/step - loss: 0.2128 - accuracy: 0.9207 - val_loss: 0.3609 - val_accuracy: 0.8507\n",
      "Epoch 16/20\n",
      "13/13 [==============================] - 6s 497ms/step - loss: 0.1419 - accuracy: 0.9543 - val_loss: 0.3702 - val_accuracy: 0.8284\n",
      "Epoch 17/20\n",
      "13/13 [==============================] - 6s 498ms/step - loss: 0.1052 - accuracy: 0.9688 - val_loss: 0.2534 - val_accuracy: 0.8881\n",
      "Epoch 18/20\n",
      "13/13 [==============================] - 7s 503ms/step - loss: 0.1037 - accuracy: 0.9639 - val_loss: 0.2827 - val_accuracy: 0.8731\n",
      "Epoch 19/20\n",
      "13/13 [==============================] - 6s 498ms/step - loss: 0.0816 - accuracy: 0.9736 - val_loss: 0.4679 - val_accuracy: 0.8433\n",
      "Epoch 20/20\n",
      "13/13 [==============================] - 7s 509ms/step - loss: 0.0654 - accuracy: 0.9832 - val_loss: 0.2288 - val_accuracy: 0.8955\n"
     ]
    }
   ],
   "source": [
    "# fit the model\n",
    "r = model.fit_generator(\n",
    "  training_set,\n",
    "  validation_data=test_set,\n",
    "  epochs=20,\n",
    "  steps_per_epoch=len(training_set),\n",
    "  validation_steps=len(test_set)\n",
    ")"
   ]
  },
  {
   "cell_type": "markdown",
   "metadata": {},
   "source": [
    "# plot of train vs val"
   ]
  },
  {
   "cell_type": "code",
   "execution_count": 35,
   "metadata": {
    "colab": {
     "base_uri": "https://localhost:8080/",
     "height": 530
    },
    "id": "XAsOCztBln1p",
    "outputId": "7ffe7703-8352-42ab-e7be-717fb7a5788f"
   },
   "outputs": [
    {
     "data": {
      "image/png": "[encoded data removed]",
      "text/plain": [
       "<Figure size 432x288 with 1 Axes>"
      ]
     },
     "metadata": {
      "needs_background": "light"
     },
     "output_type": "display_data"
    },
    {
     "data": {
      "image/png": "[encoded data removed]",
      "text/plain": [
       "<Figure size 432x288 with 1 Axes>"
      ]
     },
     "metadata": {
      "needs_background": "light"
     },
     "output_type": "display_data"
    },
    {
     "data": {
      "text/plain": [
       "<Figure size 432x288 with 0 Axes>"
      ]
     },
     "metadata": {},
     "output_type": "display_data"
    }
   ],
   "source": [
    "# plot the loss\n",
    "plt.plot(r.history['loss'], label='train loss')\n",
    "plt.plot(r.history['val_loss'], label='val loss')\n",
    "plt.legend()\n",
    "plt.show()\n",
    "plt.savefig('LossVal_loss')\n",
    "\n",
    "# plot the accuracy\n",
    "plt.plot(r.history['accuracy'], label='train acc')\n",
    "plt.plot(r.history['val_accuracy'], label='val acc')\n",
    "plt.legend()\n",
    "plt.show()\n",
    "plt.savefig('AccVal_acc')"
   ]
  },
  {
   "cell_type": "markdown",
   "metadata": {
    "id": "nRIeQMutb4yt"
   },
   "source": [
    "# Approach for model 1"
   ]
  },
  {
   "cell_type": "raw",
   "metadata": {},
   "source": [
    "Since malaria dataset is a image dataset so I used Vgg19 as mode of transfer learning, we could use the Vgg19 as a pretrained model and use its weights as it is.\n",
    "Also, I do not have GPU so model was huge amount of time to train, so for that I used part of the dataset . And top of that provided image augmentations to model so that it performs better.\n",
    "It is binary classification task so I used softmax layer as output layer, loss as crossentropy, metric as accuracy and optimizer as Adam.\n"
   ]
  },
  {
   "cell_type": "markdown",
   "metadata": {},
   "source": [
    "# Approach for model 2"
   ]
  },
  {
   "cell_type": "raw",
   "metadata": {},
   "source": [
    "Since malaria dataset is a image dataset so I used basic CNN architecture .\n",
    "Also, I do not have GPU so model was huge amount of time to train, so for that I used part of the dataset . And top of that provided image augmentations to model so that it performs better.\n",
    "It is binary classification task so I used softmax layer as output layer, loss as crossentropy, metric as accuracy and optimizer as Adam."
   ]
  },
  {
   "cell_type": "markdown",
   "metadata": {},
   "source": [
    "## Comparision between both models"
   ]
  },
  {
   "cell_type": "raw",
   "metadata": {},
   "source": [
    "For model_1 we got test accuracy of 92% which is good.\n",
    "From the plots of model_1 we can see model performing good with both train and test data.\n",
    "\n",
    "For model_2 we got test accuracy of 89% which is less than model_1.\n",
    "From the plots of model_2 we can see model is performing very good with train but not with test data, that means it might be slighly overfitting.\n",
    "\n",
    "Since we know model_1 is performing better so I saved the model and used this for deployment using Flask\n"
   ]
  },
  {
   "cell_type": "markdown",
   "metadata": {},
   "source": [
    "### I have no experience of deployment of models, so I tried deploying it using Flask "
   ]
  },
  {
   "cell_type": "code",
   "execution_count": null,
   "metadata": {},
   "outputs": [],
   "source": []
  }
 ],
 "metadata": {
  "accelerator": "GPU",
  "colab": {
   "collapsed_sections": [],
   "name": "CNN And Transfer LEarning.ipynb",
   "provenance": []
  },
  "kernelspec": {
   "display_name": "Python 3",
   "language": "python",
   "name": "python3"
  },
  "language_info": {
   "codemirror_mode": {
    "name": "ipython",
    "version": 3
   },
   "file_extension": ".py",
   "mimetype": "text/x-python",
   "name": "python",
   "nbconvert_exporter": "python",
   "pygments_lexer": "ipython3",
   "version": "3.8.8"
  }
 },
 "nbformat": 4,
 "nbformat_minor": 1
}
